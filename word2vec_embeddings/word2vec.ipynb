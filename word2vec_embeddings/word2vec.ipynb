{
 "cells": [
  {
   "cell_type": "code",
   "execution_count": 1,
   "metadata": {},
   "outputs": [],
   "source": [
    "import numpy as np\n",
    "import pandas as pd\n",
    "import matplotlib.pyplot as plt\n",
    "import seaborn as sns\n",
    "import tensorflow as tf\n",
    "\n",
    "from sklearn import manifold\n",
    "from sklearn.model_selection import train_test_split\n",
    "from tensorflow.keras import models, layers, preprocessing as kpreprocessing\n",
    "from tensorflow.keras import backend as K\n",
    "\n",
    "from gensim.models import Word2Vec\n",
    "from gensim.models.phrases import Phraser\n",
    "from gensim.models.phrases import Phrases"
   ]
  },
  {
   "cell_type": "code",
   "execution_count": 2,
   "metadata": {
    "pycharm": {
     "name": "#%%\n"
    }
   },
   "outputs": [],
   "source": [
    "DATA_PATH = \"../data/train_preprocessed.pkl\"\n",
    "RANDOM_STATE = 42"
   ]
  },
  {
   "cell_type": "code",
   "execution_count": 3,
   "metadata": {},
   "outputs": [],
   "source": [
    "tf.random.set_seed(\n",
    "    RANDOM_STATE\n",
    ")"
   ]
  },
  {
   "cell_type": "code",
   "execution_count": 4,
   "metadata": {
    "pycharm": {
     "name": "#%%\n"
    }
   },
   "outputs": [
    {
     "data": {
      "text/html": [
       "<div>\n",
       "<style scoped>\n",
       "    .dataframe tbody tr th:only-of-type {\n",
       "        vertical-align: middle;\n",
       "    }\n",
       "\n",
       "    .dataframe tbody tr th {\n",
       "        vertical-align: top;\n",
       "    }\n",
       "\n",
       "    .dataframe thead th {\n",
       "        text-align: right;\n",
       "    }\n",
       "</style>\n",
       "<table border=\"1\" class=\"dataframe\">\n",
       "  <thead>\n",
       "    <tr style=\"text-align: right;\">\n",
       "      <th></th>\n",
       "      <th>text</th>\n",
       "      <th>class</th>\n",
       "      <th>spacy</th>\n",
       "      <th>lemmatized</th>\n",
       "      <th>stemmed</th>\n",
       "      <th>lemmatized_stopwords</th>\n",
       "      <th>stemmed_stopwords</th>\n",
       "    </tr>\n",
       "  </thead>\n",
       "  <tbody>\n",
       "    <tr>\n",
       "      <th>0</th>\n",
       "      <td>проблема: не открывается АКТ сверки по СБС № П...</td>\n",
       "      <td>1-46</td>\n",
       "      <td>(проблема, :, не, открывается, АКТ, сверки, по...</td>\n",
       "      <td>проблема не открываться акт сверка по сбс паке...</td>\n",
       "      <td>проблем не открыва акт сверк по сбс пакет доку...</td>\n",
       "      <td>открываться акт сверка сбс пакет документ скан...</td>\n",
       "      <td>открыва акт сверк сбс пакет документ скан прилага</td>\n",
       "    </tr>\n",
       "    <tr>\n",
       "      <th>1</th>\n",
       "      <td>В случае выбора неверного шаблона просьба указ...</td>\n",
       "      <td>1-70</td>\n",
       "      <td>(В, случае, выбора, неверного, шаблона, просьб...</td>\n",
       "      <td>в случай выбор неверный шаблон просьба указать...</td>\n",
       "      <td>в случа выбор неверн шаблон просьб указа наиме...</td>\n",
       "      <td>в случай выбор неверный шаблон указать наимено...</td>\n",
       "      <td>в случа выбор неверн шаблон указа наименован к...</td>\n",
       "    </tr>\n",
       "    <tr>\n",
       "      <th>2</th>\n",
       "      <td>Вопрос/информация Добрый день! В ЗНВ 300001962...</td>\n",
       "      <td>4-11</td>\n",
       "      <td>(Вопрос, /, информация, Добрый, день, !, В, ЗН...</td>\n",
       "      <td>вопрос информация добрый день в знв в графа су...</td>\n",
       "      <td>вопрос информац добр ден в знв в граф сумм ком...</td>\n",
       "      <td>вопрос информация добрый в знв графа сумма ком...</td>\n",
       "      <td>вопрос информац добр в знв граф сумм комисс от...</td>\n",
       "    </tr>\n",
       "    <tr>\n",
       "      <th>3</th>\n",
       "      <td>Вопрос/проблема: После выхода из отпуска с 01....</td>\n",
       "      <td>6-1</td>\n",
       "      <td>(Вопрос, /, проблема, :, После, выхода, из, от...</td>\n",
       "      <td>вопрос проблема после выход из отпуск с меню в...</td>\n",
       "      <td>вопрос проблем посл выход из отпуск с мен в sa...</td>\n",
       "      <td>вопрос после выход отпуск меню sap увхд стать ...</td>\n",
       "      <td>вопрос посл выход отпуск мен sap увхд стат кор...</td>\n",
       "    </tr>\n",
       "    <tr>\n",
       "      <th>4</th>\n",
       "      <td>В УВХД необходимо снять резервирование с ЗНС *...</td>\n",
       "      <td>2-28</td>\n",
       "      <td>(В, УВХД, необходимо, снять, резервирование, с...</td>\n",
       "      <td>в увхд необходимый снять резервирование с знс ...</td>\n",
       "      <td>в увхд необходим снят резервирован с знс не да...</td>\n",
       "      <td>в увхд снять резервирование знс давать постави...</td>\n",
       "      <td>в увхд снят резервирован знс дава постав стату...</td>\n",
       "    </tr>\n",
       "  </tbody>\n",
       "</table>\n",
       "</div>"
      ],
      "text/plain": [
       "                                                text class  \\\n",
       "0  проблема: не открывается АКТ сверки по СБС № П...  1-46   \n",
       "1  В случае выбора неверного шаблона просьба указ...  1-70   \n",
       "2  Вопрос/информация Добрый день! В ЗНВ 300001962...  4-11   \n",
       "3  Вопрос/проблема: После выхода из отпуска с 01....   6-1   \n",
       "4  В УВХД необходимо снять резервирование с ЗНС *...  2-28   \n",
       "\n",
       "                                               spacy  \\\n",
       "0  (проблема, :, не, открывается, АКТ, сверки, по...   \n",
       "1  (В, случае, выбора, неверного, шаблона, просьб...   \n",
       "2  (Вопрос, /, информация, Добрый, день, !, В, ЗН...   \n",
       "3  (Вопрос, /, проблема, :, После, выхода, из, от...   \n",
       "4  (В, УВХД, необходимо, снять, резервирование, с...   \n",
       "\n",
       "                                          lemmatized  \\\n",
       "0  проблема не открываться акт сверка по сбс паке...   \n",
       "1  в случай выбор неверный шаблон просьба указать...   \n",
       "2  вопрос информация добрый день в знв в графа су...   \n",
       "3  вопрос проблема после выход из отпуск с меню в...   \n",
       "4  в увхд необходимый снять резервирование с знс ...   \n",
       "\n",
       "                                             stemmed  \\\n",
       "0  проблем не открыва акт сверк по сбс пакет доку...   \n",
       "1  в случа выбор неверн шаблон просьб указа наиме...   \n",
       "2  вопрос информац добр ден в знв в граф сумм ком...   \n",
       "3  вопрос проблем посл выход из отпуск с мен в sa...   \n",
       "4  в увхд необходим снят резервирован с знс не да...   \n",
       "\n",
       "                                lemmatized_stopwords  \\\n",
       "0  открываться акт сверка сбс пакет документ скан...   \n",
       "1  в случай выбор неверный шаблон указать наимено...   \n",
       "2  вопрос информация добрый в знв графа сумма ком...   \n",
       "3  вопрос после выход отпуск меню sap увхд стать ...   \n",
       "4  в увхд снять резервирование знс давать постави...   \n",
       "\n",
       "                                   stemmed_stopwords  \n",
       "0  открыва акт сверк сбс пакет документ скан прилага  \n",
       "1  в случа выбор неверн шаблон указа наименован к...  \n",
       "2  вопрос информац добр в знв граф сумм комисс от...  \n",
       "3  вопрос посл выход отпуск мен sap увхд стат кор...  \n",
       "4  в увхд снят резервирован знс дава постав стату...  "
      ]
     },
     "execution_count": 4,
     "metadata": {},
     "output_type": "execute_result"
    }
   ],
   "source": [
    "df = pd.read_pickle(DATA_PATH)\n",
    "df.head()"
   ]
  },
  {
   "cell_type": "code",
   "execution_count": 5,
   "metadata": {
    "pycharm": {
     "name": "#%%\n"
    }
   },
   "outputs": [],
   "source": [
    "df_train, df_test, y_train, y_test = train_test_split(\n",
    "    df['lemmatized'], df['class'], test_size=0.2, random_state=RANDOM_STATE\n",
    ")"
   ]
  },
  {
   "cell_type": "code",
   "execution_count": 6,
   "metadata": {
    "pycharm": {
     "name": "#%%\n"
    }
   },
   "outputs": [],
   "source": [
    "corpus = df_train\n",
    "\n",
    "lst_corpus = []\n",
    "for string in corpus:\n",
    "    lst_words = string.split(' ')\n",
    "    lst_grams = [' '.join(lst_words[i:i+1]) for i in range(len(lst_words))]\n",
    "    lst_corpus.append(lst_grams)\n",
    "\n",
    "bigrams_detector = Phrases(lst_corpus, min_count=5, threshold=10)\n",
    "bigrams_detector = Phraser(bigrams_detector)\n",
    "\n",
    "trigrams_detector = Phrases(bigrams_detector[lst_corpus], min_count=5, threshold=10)\n",
    "trigrams_detector = Phraser(trigrams_detector)"
   ]
  },
  {
   "cell_type": "code",
   "execution_count": 7,
   "metadata": {
    "pycharm": {
     "name": "#%%\n"
    }
   },
   "outputs": [],
   "source": [
    "w2v = Word2Vec(lst_corpus, window=8)"
   ]
  },
  {
   "cell_type": "code",
   "execution_count": 8,
   "metadata": {
    "pycharm": {
     "name": "#%%\n"
    }
   },
   "outputs": [
    {
     "data": {
      "text/plain": [
       "(100,)"
      ]
     },
     "execution_count": 8,
     "metadata": {},
     "output_type": "execute_result"
    }
   ],
   "source": [
    "w2v.wv['проблема'].shape"
   ]
  },
  {
   "cell_type": "code",
   "execution_count": 10,
   "metadata": {
    "pycharm": {
     "name": "#%%\n"
    }
   },
   "outputs": [],
   "source": [
    "tokenizer = kpreprocessing.text.Tokenizer(lower=True, split=' ', oov_token='NaN')\n",
    "tokenizer.fit_on_texts(lst_corpus)\n",
    "dic_vocabulary = tokenizer.word_index\n",
    "\n",
    "lst_texxt2seq = tokenizer.texts_to_sequences(lst_corpus)\n",
    "\n",
    "X_train = kpreprocessing.sequence.pad_sequences(lst_texxt2seq, maxlen=30, padding='post',\n",
    "                                                truncating='post')"
   ]
  },
  {
   "cell_type": "code",
   "execution_count": 11,
   "metadata": {
    "pycharm": {
     "name": "#%%\n"
    }
   },
   "outputs": [
    {
     "data": {
      "image/png": "[encoded data removed]",
      "text/plain": [
       "<Figure size 432x288 with 1 Axes>"
      ]
     },
     "metadata": {
      "needs_background": "light"
     },
     "output_type": "display_data"
    }
   ],
   "source": [
    "sns.heatmap(X_train==0, vmin=0, vmax=1, cbar=False);"
   ]
  },
  {
   "cell_type": "code",
   "execution_count": 12,
   "metadata": {
    "pycharm": {
     "name": "#%%\n"
    }
   },
   "outputs": [
    {
     "data": {
      "image/png": "[encoded data removed]",
      "text/plain": [
       "<Figure size 432x288 with 1 Axes>"
      ]
     },
     "metadata": {
      "needs_background": "light"
     },
     "output_type": "display_data"
    }
   ],
   "source": [
    "corpus = df_test\n",
    "\n",
    "lst_corpus = []\n",
    "for string in corpus:\n",
    "    lst_words = string.split(' ')\n",
    "    lst_grams = [' '.join(lst_words[i:i+1]) for i in range(len(lst_words))]\n",
    "    lst_corpus.append(lst_grams)\n",
    "\n",
    "lst_corpus = list(bigrams_detector[lst_corpus])\n",
    "lst_corpus = list(trigrams_detector[lst_corpus])\n",
    "\n",
    "lst_texxt2seq = tokenizer.texts_to_sequences(lst_corpus)\n",
    "\n",
    "X_test = kpreprocessing.sequence.pad_sequences(lst_texxt2seq, maxlen=30, padding='post', truncating='post')\n",
    "\n",
    "sns.heatmap(X_test==0, vmin=0, vmax=1, cbar=False);"
   ]
  },
  {
   "cell_type": "code",
   "execution_count": 13,
   "metadata": {
    "pycharm": {
     "name": "#%%\n"
    }
   },
   "outputs": [
    {
     "data": {
      "text/plain": [
       "(12359, 30)"
      ]
     },
     "execution_count": 13,
     "metadata": {},
     "output_type": "execute_result"
    }
   ],
   "source": [
    "X_train.shape"
   ]
  },
  {
   "cell_type": "code",
   "execution_count": 14,
   "metadata": {
    "pycharm": {
     "name": "#%%\n"
    }
   },
   "outputs": [],
   "source": [
    "embeddings = np.zeros((len(dic_vocabulary) + 1, 100))\n",
    "\n",
    "for word, idx in dic_vocabulary.items():\n",
    "    try:\n",
    "        embeddings[idx] = w2v.wv[word]\n",
    "    except:\n",
    "        pass"
   ]
  },
  {
   "cell_type": "code",
   "execution_count": 15,
   "metadata": {},
   "outputs": [
    {
     "name": "stdout",
     "output_type": "stream",
     "text": [
      "Model: \"model\"\n",
      "__________________________________________________________________________________________________\n",
      " Layer (type)                   Output Shape         Param #     Connected to                     \n",
      "==================================================================================================\n",
      " input_1 (InputLayer)           [(None, 30)]         0           []                               \n",
      "                                                                                                  \n",
      " embedding (Embedding)          (None, 30, 100)      1554100     ['input_1[0][0]']                \n",
      "                                                                                                  \n",
      " permute (Permute)              (None, 100, 30)      0           ['embedding[0][0]']              \n",
      "                                                                                                  \n",
      " dense (Dense)                  (None, 100, 30)      930         ['permute[0][0]']                \n",
      "                                                                                                  \n",
      " attention (Permute)            (None, 30, 100)      0           ['dense[0][0]']                  \n",
      "                                                                                                  \n",
      " multiply (Multiply)            (None, 30, 100)      0           ['embedding[0][0]',              \n",
      "                                                                  'attention[0][0]']              \n",
      "                                                                                                  \n",
      " bidirectional (Bidirectional)  (None, 30, 60)       31440       ['multiply[0][0]']               \n",
      "                                                                                                  \n",
      " bidirectional_1 (Bidirectional  (None, 60)          21840       ['bidirectional[0][0]']          \n",
      " )                                                                                                \n",
      "                                                                                                  \n",
      " dense_1 (Dense)                (None, 90)           5490        ['bidirectional_1[0][0]']        \n",
      "                                                                                                  \n",
      " dense_2 (Dense)                (None, 77)           7007        ['dense_1[0][0]']                \n",
      "                                                                                                  \n",
      "==================================================================================================\n",
      "Total params: 1,620,807\n",
      "Trainable params: 66,707\n",
      "Non-trainable params: 1,554,100\n",
      "__________________________________________________________________________________________________\n"
     ]
    }
   ],
   "source": [
    "## code attention layer\n",
    "shape = 30\n",
    "\n",
    "def attention_layer(inputs, neurons):\n",
    "    x = layers.Permute((2,1))(inputs)\n",
    "    x = layers.Dense(neurons, activation=\"softmax\")(x)\n",
    "    x = layers.Permute((2,1), name=\"attention\")(x)\n",
    "    x = layers.multiply([inputs, x])\n",
    "    return x\n",
    "\n",
    "## input\n",
    "x_in = layers.Input(shape=(shape,))\n",
    "## embedding\n",
    "x = layers.Embedding(input_dim=embeddings.shape[0],  \n",
    "                     output_dim=embeddings.shape[1], \n",
    "                     weights=[embeddings],\n",
    "                     input_length=shape, trainable=False)(x_in)\n",
    "## apply attention\n",
    "x = attention_layer(x, neurons=shape)\n",
    "## 2 layers of bidirectional lstm\n",
    "x = layers.Bidirectional(layers.LSTM(units=shape, dropout=0.2, \n",
    "                         return_sequences=True))(x)\n",
    "x = layers.Bidirectional(layers.LSTM(units=shape, dropout=0.2))(x)\n",
    "## final dense layers\n",
    "x = layers.Dense(90, activation='relu')(x)\n",
    "y_out = layers.Dense(df['class'].unique().shape[0], activation='softmax')(x)\n",
    "## compile\n",
    "model = models.Model(x_in, y_out)\n",
    "model.compile(loss='sparse_categorical_crossentropy',\n",
    "              optimizer='adam', metrics=['accuracy'])\n",
    "\n",
    "model.summary()"
   ]
  },
  {
   "cell_type": "code",
   "execution_count": 16,
   "metadata": {
    "pycharm": {
     "name": "#%%\n"
    }
   },
   "outputs": [],
   "source": [
    "## encode y\n",
    "dic_y_mapping = {n:label for n,label in enumerate(np.unique(y_train))}\n",
    "inverse_dic = {v:k for k,v in dic_y_mapping.items()}\n",
    "y_train = np.array([inverse_dic[y] for y in y_train])"
   ]
  },
  {
   "cell_type": "code",
   "execution_count": 17,
   "metadata": {},
   "outputs": [
    {
     "name": "stdout",
     "output_type": "stream",
     "text": [
      "Epoch 1/10\n",
      "145/145 [==============================] - 79s 485ms/step - loss: 3.8801 - accuracy: 0.1226 - val_loss: 3.4157 - val_accuracy: 0.1867\n",
      "Epoch 2/10\n",
      "145/145 [==============================] - 68s 467ms/step - loss: 3.0897 - accuracy: 0.2193 - val_loss: 2.7878 - val_accuracy: 0.2670\n",
      "Epoch 3/10\n",
      "145/145 [==============================] - 68s 467ms/step - loss: 2.6458 - accuracy: 0.2788 - val_loss: 2.5308 - val_accuracy: 0.3152\n",
      "Epoch 4/10\n",
      "145/145 [==============================] - 67s 463ms/step - loss: 2.4472 - accuracy: 0.3294 - val_loss: 2.3445 - val_accuracy: 0.3599\n",
      "Epoch 5/10\n",
      "145/145 [==============================] - 67s 464ms/step - loss: 2.2889 - accuracy: 0.3614 - val_loss: 2.2362 - val_accuracy: 0.3693\n",
      "Epoch 6/10\n",
      "145/145 [==============================] - 67s 465ms/step - loss: 2.1747 - accuracy: 0.3864 - val_loss: 2.1442 - val_accuracy: 0.3994\n",
      "Epoch 7/10\n",
      "145/145 [==============================] - 67s 465ms/step - loss: 2.0877 - accuracy: 0.4075 - val_loss: 2.1125 - val_accuracy: 0.4000\n",
      "Epoch 8/10\n",
      "145/145 [==============================] - 68s 470ms/step - loss: 2.0228 - accuracy: 0.4217 - val_loss: 2.0411 - val_accuracy: 0.4307\n",
      "Epoch 9/10\n",
      "145/145 [==============================] - 69s 476ms/step - loss: 1.9622 - accuracy: 0.4277 - val_loss: 1.9724 - val_accuracy: 0.4366\n",
      "Epoch 10/10\n",
      "145/145 [==============================] - 69s 479ms/step - loss: 1.9104 - accuracy: 0.4474 - val_loss: 1.9512 - val_accuracy: 0.4375\n",
      "CPU times: total: 20min 43s\n",
      "Wall time: 11min 30s\n"
     ]
    }
   ],
   "source": [
    "%%time\n",
    "## train\n",
    "training = model.fit(x=X_train, y=y_train, batch_size=32,\n",
    "                     epochs=10, shuffle=True, verbose=True, \n",
    "                     validation_split=0.25)"
   ]
  },
  {
   "cell_type": "code",
   "execution_count": 18,
   "metadata": {},
   "outputs": [
    {
     "data": {
      "image/png": "[encoded data removed]",
      "text/plain": [
       "<Figure size 432x288 with 4 Axes>"
      ]
     },
     "metadata": {
      "needs_background": "light"
     },
     "output_type": "display_data"
    }
   ],
   "source": [
    "## plot loss and accuracy\n",
    "metrics = [k for k in training.history.keys() if (\"loss\" not in k) and (\"val\" not in k)]\n",
    "fig, ax = plt.subplots(nrows=1, ncols=2, sharey=True)\n",
    "ax[0].set(title=\"Training\")\n",
    "ax11 = ax[0].twinx()\n",
    "ax[0].plot(training.history['loss'], color='black')\n",
    "ax[0].set_xlabel('Epochs')\n",
    "ax[0].set_ylabel('Loss', color='black')\n",
    "for metric in metrics:\n",
    "    ax11.plot(training.history[metric], label=metric)\n",
    "ax11.set_ylabel(\"Score\", color='steelblue')\n",
    "ax11.legend()\n",
    "ax[1].set(title=\"Validation\")\n",
    "ax22 = ax[1].twinx()\n",
    "ax[1].plot(training.history['val_loss'], color='black')\n",
    "ax[1].set_xlabel('Epochs')\n",
    "ax[1].set_ylabel('Loss', color='black')\n",
    "for metric in metrics:\n",
    "     ax22.plot(training.history['val_'+metric], label=metric)\n",
    "ax22.set_ylabel(\"Score\", color=\"steelblue\")\n",
    "plt.show()"
   ]
  },
  {
   "cell_type": "code",
   "execution_count": 19,
   "metadata": {},
   "outputs": [],
   "source": [
    "## test\n",
    "predicted_prob = model.predict(X_test)\n",
    "predicted = [dic_y_mapping[np.argmax(pred)] for pred in \n",
    "             predicted_prob]"
   ]
  },
  {
   "cell_type": "code",
   "execution_count": 26,
   "metadata": {},
   "outputs": [
    {
     "name": "stdout",
     "output_type": "stream",
     "text": [
      "0.2993527508090615\n",
      "0.26840569395618735\n"
     ]
    }
   ],
   "source": [
    "from sklearn.metrics import f1_score, accuracy_score\n",
    "\n",
    "print(accuracy_score(y_test, predicted))\n",
    "print(f1_score(y_test, predicted, average='weighted'))"
   ]
  },
  {
   "cell_type": "code",
   "execution_count": null,
   "metadata": {},
   "outputs": [],
   "source": []
  }
 ],
 "metadata": {
  "kernelspec": {
   "display_name": "Python 3 (ipykernel)",
   "language": "python",
   "name": "python3"
  },
  "language_info": {
   "codemirror_mode": {
    "name": "ipython",
    "version": 3
   },
   "file_extension": ".py",
   "mimetype": "text/x-python",
   "name": "python",
   "nbconvert_exporter": "python",
   "pygments_lexer": "ipython3",
   "version": "3.9.6"
  }
 },
 "nbformat": 4,
 "nbformat_minor": 1
}