{
 "cells": [
  {
   "cell_type": "code",
   "execution_count": 1,
   "metadata": {
    "pycharm": {
     "name": "#%%\n"
    }
   },
   "outputs": [],
   "source": [
    "import pandas as pd\n",
    "from lightgbm import LGBMClassifier\n",
    "from sklearn.ensemble import RandomForestClassifier\n",
    "from sklearn.feature_extraction.text import TfidfVectorizer\n",
    "from sklearn.linear_model import LogisticRegression\n",
    "from sklearn.neighbors import KNeighborsClassifier\n",
    "from sklearn.svm import LinearSVC\n",
    "from xgboost import XGBClassifier\n",
    "from sklearn.pipeline import Pipeline\n",
    "from utils import TextTransformer"
   ]
  },
  {
   "cell_type": "code",
   "execution_count": 2,
   "metadata": {
    "pycharm": {
     "name": "#%%\n"
    }
   },
   "outputs": [],
   "source": [
    "import warnings\n",
    "\n",
    "warnings.filterwarnings(\"ignore\")"
   ]
  },
  {
   "cell_type": "code",
   "execution_count": 3,
   "metadata": {
    "pycharm": {
     "name": "#%%\n"
    }
   },
   "outputs": [],
   "source": [
    "DATA_PATH = \"../data/train.csv\"\n",
    "RANDOM_STATE = 42"
   ]
  },
  {
   "cell_type": "markdown",
   "metadata": {},
   "source": [
    "# Чтение исходного датасета"
   ]
  },
  {
   "cell_type": "code",
   "execution_count": 4,
   "metadata": {
    "pycharm": {
     "name": "#%%\n"
    }
   },
   "outputs": [
    {
     "data": {
      "text/plain": "Index(['text', 'class'], dtype='object')"
     },
     "execution_count": 4,
     "metadata": {},
     "output_type": "execute_result"
    }
   ],
   "source": [
    "df = pd.read_csv(DATA_PATH)\n",
    "df.columns"
   ]
  },
  {
   "cell_type": "markdown",
   "metadata": {},
   "source": [
    "# Обучение моделей"
   ]
  },
  {
   "cell_type": "markdown",
   "metadata": {},
   "source": [
    "## Логистическая регрессия"
   ]
  },
  {
   "cell_type": "code",
   "execution_count": 5,
   "metadata": {
    "pycharm": {
     "name": "#%%\n"
    }
   },
   "outputs": [
    {
     "name": "stderr",
     "output_type": "stream",
     "text": [
      "100%|██████████| 15449/15449 [06:43<00:00, 38.33it/s]\n",
      "100%|██████████| 15449/15449 [00:00<00:00, 23350.17it/s]\n",
      "100%|██████████| 15449/15449 [00:00<00:00, 112404.66it/s]\n"
     ]
    },
    {
     "name": "stdout",
     "output_type": "stream",
     "text": [
      "CPU times: total: 7min 13s\n",
      "Wall time: 7min 13s\n"
     ]
    },
    {
     "data": {
      "text/plain": "Pipeline(steps=[('text_transformer',\n                 <utils.TextTransformer object at 0x000001D92C6C22E0>),\n                ('tf_idf', TfidfVectorizer(sublinear_tf=True)),\n                ('classifier', LogisticRegression(random_state=42))])"
     },
     "execution_count": 5,
     "metadata": {},
     "output_type": "execute_result"
    }
   ],
   "source": [
    "%%time\n",
    "\n",
    "logistic_clf = Pipeline([\n",
    "    ('text_transformer', TextTransformer()),\n",
    "    ('tf_idf', TfidfVectorizer(sublinear_tf=True)),\n",
    "    ('classifier', LogisticRegression(random_state=RANDOM_STATE))\n",
    "])\n",
    "\n",
    "logistic_clf.fit(df['text'], df['class'])"
   ]
  },
  {
   "cell_type": "markdown",
   "metadata": {},
   "source": [
    "## LinearSVC"
   ]
  },
  {
   "cell_type": "code",
   "execution_count": 7,
   "metadata": {
    "pycharm": {
     "name": "#%%\n"
    }
   },
   "outputs": [
    {
     "name": "stderr",
     "output_type": "stream",
     "text": [
      "100%|██████████| 15449/15449 [06:12<00:00, 41.48it/s]\n",
      "100%|██████████| 15449/15449 [00:00<00:00, 26925.45it/s]\n",
      "100%|██████████| 15449/15449 [00:00<00:00, 124826.00it/s]\n"
     ]
    },
    {
     "name": "stdout",
     "output_type": "stream",
     "text": [
      "CPU times: total: 6min 11s\n",
      "Wall time: 6min 16s\n"
     ]
    },
    {
     "data": {
      "text/plain": "Pipeline(steps=[('text_transformer',\n                 <utils.TextTransformer object at 0x000001D956FAE460>),\n                ('tf_idf', TfidfVectorizer(sublinear_tf=True)),\n                ('classifier', LinearSVC(random_state=42))])"
     },
     "execution_count": 7,
     "metadata": {},
     "output_type": "execute_result"
    }
   ],
   "source": [
    "%%time\n",
    "\n",
    "linear_svc = Pipeline([\n",
    "    ('text_transformer', TextTransformer()),\n",
    "    ('tf_idf', TfidfVectorizer(sublinear_tf=True)),\n",
    "    ('classifier', LinearSVC(random_state=RANDOM_STATE))\n",
    "])\n",
    "\n",
    "linear_svc.fit(df['text'], df['class'])"
   ]
  },
  {
   "cell_type": "markdown",
   "metadata": {},
   "source": [
    "## Random Forest"
   ]
  },
  {
   "cell_type": "code",
   "execution_count": 8,
   "metadata": {
    "pycharm": {
     "name": "#%%\n"
    }
   },
   "outputs": [
    {
     "name": "stderr",
     "output_type": "stream",
     "text": [
      "100%|██████████| 15449/15449 [06:06<00:00, 42.11it/s]\n",
      "100%|██████████| 15449/15449 [00:00<00:00, 25845.94it/s]\n",
      "100%|██████████| 15449/15449 [00:00<00:00, 122604.22it/s]\n"
     ]
    },
    {
     "name": "stdout",
     "output_type": "stream",
     "text": [
      "CPU times: total: 6min 33s\n",
      "Wall time: 6min 13s\n"
     ]
    },
    {
     "data": {
      "text/plain": "Pipeline(steps=[('text_transformer',\n                 <utils.TextTransformer object at 0x000001D95ACE0DC0>),\n                ('tf_idf', TfidfVectorizer(sublinear_tf=True)),\n                ('classifier',\n                 RandomForestClassifier(max_depth=150, n_estimators=60,\n                                        n_jobs=-1, random_state=42))])"
     },
     "execution_count": 8,
     "metadata": {},
     "output_type": "execute_result"
    }
   ],
   "source": [
    "%%time\n",
    "\n",
    "random_forest = Pipeline([\n",
    "    ('text_transformer', TextTransformer()),\n",
    "    ('tf_idf', TfidfVectorizer(sublinear_tf=True)),\n",
    "    ('classifier', RandomForestClassifier(random_state=RANDOM_STATE,\n",
    "                                          n_estimators=60,\n",
    "                                          max_depth=150,\n",
    "                                          n_jobs=-1))\n",
    "])\n",
    "\n",
    "random_forest.fit(df['text'], df['class'])"
   ]
  },
  {
   "cell_type": "markdown",
   "metadata": {},
   "source": [
    "## K-Neighbours Classifier"
   ]
  },
  {
   "cell_type": "code",
   "execution_count": 9,
   "metadata": {
    "pycharm": {
     "name": "#%%\n"
    }
   },
   "outputs": [
    {
     "name": "stderr",
     "output_type": "stream",
     "text": [
      "100%|██████████| 15449/15449 [06:16<00:00, 41.00it/s]\n",
      "100%|██████████| 15449/15449 [00:00<00:00, 20584.07it/s]\n",
      "100%|██████████| 15449/15449 [00:00<00:00, 109698.68it/s]\n"
     ]
    },
    {
     "name": "stdout",
     "output_type": "stream",
     "text": [
      "CPU times: total: 6min 11s\n",
      "Wall time: 6min 18s\n"
     ]
    },
    {
     "data": {
      "text/plain": "Pipeline(steps=[('text_transformer',\n                 <utils.TextTransformer object at 0x000001D955F99490>),\n                ('tf_idf', TfidfVectorizer(sublinear_tf=True)),\n                ('classifier', KNeighborsClassifier(n_jobs=-1, n_neighbors=1))])"
     },
     "execution_count": 9,
     "metadata": {},
     "output_type": "execute_result"
    }
   ],
   "source": [
    "%%time\n",
    "\n",
    "neighbours = Pipeline([\n",
    "    ('text_transformer', TextTransformer()),\n",
    "    ('tf_idf', TfidfVectorizer(sublinear_tf=True)),\n",
    "    ('classifier', KNeighborsClassifier(n_neighbors=1, n_jobs=-1))\n",
    "])\n",
    "\n",
    "neighbours.fit(df['text'], df['class'])"
   ]
  },
  {
   "cell_type": "markdown",
   "metadata": {},
   "source": [
    "## XGBoost Classifier"
   ]
  },
  {
   "cell_type": "code",
   "execution_count": 10,
   "metadata": {
    "pycharm": {
     "name": "#%%\n"
    }
   },
   "outputs": [
    {
     "name": "stderr",
     "output_type": "stream",
     "text": [
      "100%|██████████| 15449/15449 [06:07<00:00, 42.05it/s]\n",
      "100%|██████████| 15449/15449 [00:00<00:00, 24410.76it/s]\n",
      "100%|██████████| 15449/15449 [00:00<00:00, 66425.15it/s]\n"
     ]
    },
    {
     "name": "stdout",
     "output_type": "stream",
     "text": [
      "[14:39:48] WARNING: C:/Users/Administrator/workspace/xgboost-win64_release_1.4.0/src/learner.cc:1095: Starting in XGBoost 1.3.0, the default evaluation metric used with the objective 'multi:softprob' was changed from 'merror' to 'mlogloss'. Explicitly set eval_metric if you'd like to restore the old behavior.\n",
      "CPU times: total: 22min 30s\n",
      "Wall time: 8min 24s\n"
     ]
    },
    {
     "data": {
      "text/plain": "Pipeline(steps=[('text_transformer',\n                 <utils.TextTransformer object at 0x000001D9575CDB50>),\n                ('tf_idf', TfidfVectorizer(sublinear_tf=True)),\n                ('classifier',\n                 XGBClassifier(base_score=0.5, booster='gbtree',\n                               colsample_bylevel=1, colsample_bynode=1,\n                               colsample_bytree=1, gamma=0, gpu_id=-1,\n                               importance_type='gain',\n                               interaction_constraints='',\n                               learning_rate=0.300000012, max_delta_step=0,\n                               max_depth=6, min_child_weight=1, missing=nan,\n                               monotone_constraints='()', n_estimators=100,\n                               n_jobs=-1, num_parallel_tree=1,\n                               objective='multi:softprob', random_state=42,\n                               reg_alpha=0, reg_lambda=1, scale_pos_weight=None,\n                               subsample=1, tree_method='exact',\n                               validate_parameters=1, verbosity=None))])"
     },
     "execution_count": 10,
     "metadata": {},
     "output_type": "execute_result"
    }
   ],
   "source": [
    "%%time\n",
    "\n",
    "xgb = Pipeline([\n",
    "    ('text_transformer', TextTransformer()),\n",
    "    ('tf_idf', TfidfVectorizer(sublinear_tf=True)),\n",
    "    ('classifier', XGBClassifier(random_state=RANDOM_STATE, n_jobs=-1))\n",
    "])\n",
    "\n",
    "xgb.fit(df['text'], df['class'])"
   ]
  },
  {
   "cell_type": "markdown",
   "metadata": {},
   "source": [
    "## LGBMClassifier"
   ]
  },
  {
   "cell_type": "code",
   "execution_count": 11,
   "metadata": {
    "pycharm": {
     "name": "#%%\n"
    }
   },
   "outputs": [
    {
     "name": "stderr",
     "output_type": "stream",
     "text": [
      "100%|██████████| 15449/15449 [06:04<00:00, 42.33it/s]\n",
      "100%|██████████| 15449/15449 [00:00<00:00, 21943.96it/s]\n",
      "100%|██████████| 15449/15449 [00:00<00:00, 67657.76it/s]\n"
     ]
    },
    {
     "name": "stdout",
     "output_type": "stream",
     "text": [
      "CPU times: total: 19min 15s\n",
      "Wall time: 7min 59s\n"
     ]
    },
    {
     "data": {
      "text/plain": "Pipeline(steps=[('text_transformer',\n                 <utils.TextTransformer object at 0x000001D957692D30>),\n                ('tf_idf', TfidfVectorizer(sublinear_tf=True)),\n                ('classifier', LGBMClassifier(random_state=42))])"
     },
     "execution_count": 11,
     "metadata": {},
     "output_type": "execute_result"
    }
   ],
   "source": [
    "%%time\n",
    "\n",
    "lgbm = Pipeline([\n",
    "    ('text_transformer', TextTransformer()),\n",
    "    ('tf_idf', TfidfVectorizer(sublinear_tf=True)),\n",
    "    ('classifier', LGBMClassifier(random_state=RANDOM_STATE, n_jobs=-1))\n",
    "])\n",
    "\n",
    "lgbm.fit(df['text'], df['class'])"
   ]
  },
  {
   "cell_type": "markdown",
   "source": [
    "# Сохранение моделей"
   ],
   "metadata": {
    "collapsed": false,
    "pycharm": {
     "name": "#%% md\n"
    }
   }
  },
  {
   "cell_type": "code",
   "execution_count": 12,
   "outputs": [],
   "source": [
    "import pickle\n",
    "\n",
    "with open('logr.pkl', 'wb') as file:\n",
    "    pickle.dump(logistic_clf, file)\n",
    "\n",
    "with open('svm.pkl', 'wb') as file:\n",
    "    pickle.dump(linear_svc, file)\n",
    "\n",
    "with open('xgb.pkl', 'wb') as file:\n",
    "    pickle.dump(xgb, file)\n",
    "\n",
    "with open('rf.pkl', 'wb') as file:\n",
    "    pickle.dump(random_forest, file)\n",
    "\n",
    "with open('knn.pkl', 'wb') as file:\n",
    "    pickle.dump(neighbours, file)\n",
    "\n",
    "with open('lgbm.pkl', 'wb') as file:\n",
    "    pickle.dump(lgbm, file)"
   ],
   "metadata": {
    "collapsed": false,
    "pycharm": {
     "name": "#%%\n"
    }
   }
  },
  {
   "cell_type": "code",
   "execution_count": 12,
   "outputs": [],
   "source": [],
   "metadata": {
    "collapsed": false,
    "pycharm": {
     "name": "#%%\n"
    }
   }
  }
 ],
 "metadata": {
  "kernelspec": {
   "display_name": "Python 3 (ipykernel)",
   "language": "python",
   "name": "python3"
  },
  "language_info": {
   "codemirror_mode": {
    "name": "ipython",
    "version": 3
   },
   "file_extension": ".py",
   "mimetype": "text/x-python",
   "name": "python",
   "nbconvert_exporter": "python",
   "pygments_lexer": "ipython3",
   "version": "3.9.6"
  }
 },
 "nbformat": 4,
 "nbformat_minor": 4
}