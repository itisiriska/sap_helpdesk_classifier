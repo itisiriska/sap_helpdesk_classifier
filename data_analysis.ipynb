{
 "cells": [
  {
   "cell_type": "code",
   "execution_count": 1,
   "metadata": {
    "pycharm": {
     "is_executing": true
    }
   },
   "outputs": [],
   "source": [
    "import re\n",
    "\n",
    "import pandas as pd\n",
    "import spacy\n",
    "from nltk.stem.snowball import SnowballStemmer\n",
    "from tqdm import tqdm\n",
    "from sklearn.base import TransformerMixin"
   ]
  },
  {
   "cell_type": "code",
   "execution_count": 2,
   "metadata": {
    "pycharm": {
     "is_executing": true,
     "name": "#%%\n"
    }
   },
   "outputs": [],
   "source": [
    "spacy_model =  spacy.load('ru_core_news_sm')"
   ]
  },
  {
   "cell_type": "code",
   "execution_count": 3,
   "metadata": {},
   "outputs": [],
   "source": [
    "tqdm.pandas()"
   ]
  },
  {
   "cell_type": "code",
   "execution_count": 4,
   "metadata": {
    "pycharm": {
     "is_executing": true
    }
   },
   "outputs": [],
   "source": [
    "XTRAIN_PATH = \"data/train.csv\"\n",
    "XTEST_PATH = \"data/test.csv\"\n",
    "\n",
    "RANDOM_STATE = 42"
   ]
  },
  {
   "cell_type": "markdown",
   "metadata": {},
   "source": [
    "# Анализ датасета"
   ]
  },
  {
   "cell_type": "code",
   "execution_count": 5,
   "metadata": {
    "jupyter": {
     "outputs_hidden": false
    },
    "pycharm": {
     "is_executing": true,
     "name": "#%%\n"
    }
   },
   "outputs": [
    {
     "data": {
      "text/html": [
       "<div>\n",
       "<style scoped>\n",
       "    .dataframe tbody tr th:only-of-type {\n",
       "        vertical-align: middle;\n",
       "    }\n",
       "\n",
       "    .dataframe tbody tr th {\n",
       "        vertical-align: top;\n",
       "    }\n",
       "\n",
       "    .dataframe thead th {\n",
       "        text-align: right;\n",
       "    }\n",
       "</style>\n",
       "<table border=\"1\" class=\"dataframe\">\n",
       "  <thead>\n",
       "    <tr style=\"text-align: right;\">\n",
       "      <th></th>\n",
       "      <th>text</th>\n",
       "      <th>class</th>\n",
       "    </tr>\n",
       "  </thead>\n",
       "  <tbody>\n",
       "    <tr>\n",
       "      <th>0</th>\n",
       "      <td>проблема: не открывается АКТ сверки по СБС № П...</td>\n",
       "      <td>1-46</td>\n",
       "    </tr>\n",
       "    <tr>\n",
       "      <th>1</th>\n",
       "      <td>В случае выбора неверного шаблона просьба указ...</td>\n",
       "      <td>1-70</td>\n",
       "    </tr>\n",
       "    <tr>\n",
       "      <th>2</th>\n",
       "      <td>Вопрос/информация Добрый день! В ЗНВ 300001962...</td>\n",
       "      <td>4-11</td>\n",
       "    </tr>\n",
       "    <tr>\n",
       "      <th>3</th>\n",
       "      <td>Вопрос/проблема: После выхода из отпуска с 01....</td>\n",
       "      <td>6-1</td>\n",
       "    </tr>\n",
       "    <tr>\n",
       "      <th>4</th>\n",
       "      <td>В УВХД необходимо снять резервирование с ЗНС *...</td>\n",
       "      <td>2-28</td>\n",
       "    </tr>\n",
       "  </tbody>\n",
       "</table>\n",
       "</div>"
      ],
      "text/plain": [
       "                                                text class\n",
       "0  проблема: не открывается АКТ сверки по СБС № П...  1-46\n",
       "1  В случае выбора неверного шаблона просьба указ...  1-70\n",
       "2  Вопрос/информация Добрый день! В ЗНВ 300001962...  4-11\n",
       "3  Вопрос/проблема: После выхода из отпуска с 01....   6-1\n",
       "4  В УВХД необходимо снять резервирование с ЗНС *...  2-28"
      ]
     },
     "execution_count": 5,
     "metadata": {},
     "output_type": "execute_result"
    }
   ],
   "source": [
    "X = pd.read_csv(XTRAIN_PATH)\n",
    "X.head()"
   ]
  },
  {
   "cell_type": "code",
   "execution_count": 6,
   "metadata": {
    "jupyter": {
     "outputs_hidden": false
    },
    "pycharm": {
     "is_executing": true,
     "name": "#%%\n"
    }
   },
   "outputs": [
    {
     "data": {
      "image/png": "[encoded data removed]",
      "text/plain": [
       "<Figure size 1080x432 with 1 Axes>"
      ]
     },
     "metadata": {
      "needs_background": "light"
     },
     "output_type": "display_data"
    }
   ],
   "source": [
    "X.groupby('class').count().plot(kind='bar', figsize=(15, 6));"
   ]
  },
  {
   "cell_type": "code",
   "execution_count": 7,
   "metadata": {
    "jupyter": {
     "outputs_hidden": false
    },
    "pycharm": {
     "is_executing": true,
     "name": "#%%\n"
    }
   },
   "outputs": [
    {
     "data": {
      "text/html": [
       "<div>\n",
       "<style scoped>\n",
       "    .dataframe tbody tr th:only-of-type {\n",
       "        vertical-align: middle;\n",
       "    }\n",
       "\n",
       "    .dataframe tbody tr th {\n",
       "        vertical-align: top;\n",
       "    }\n",
       "\n",
       "    .dataframe thead th {\n",
       "        text-align: right;\n",
       "    }\n",
       "</style>\n",
       "<table border=\"1\" class=\"dataframe\">\n",
       "  <thead>\n",
       "    <tr style=\"text-align: right;\">\n",
       "      <th></th>\n",
       "      <th>text</th>\n",
       "    </tr>\n",
       "  </thead>\n",
       "  <tbody>\n",
       "    <tr>\n",
       "      <th>count</th>\n",
       "      <td>77.000000</td>\n",
       "    </tr>\n",
       "    <tr>\n",
       "      <th>mean</th>\n",
       "      <td>200.636364</td>\n",
       "    </tr>\n",
       "    <tr>\n",
       "      <th>std</th>\n",
       "      <td>229.875304</td>\n",
       "    </tr>\n",
       "    <tr>\n",
       "      <th>min</th>\n",
       "      <td>64.000000</td>\n",
       "    </tr>\n",
       "    <tr>\n",
       "      <th>25%</th>\n",
       "      <td>95.000000</td>\n",
       "    </tr>\n",
       "    <tr>\n",
       "      <th>50%</th>\n",
       "      <td>136.000000</td>\n",
       "    </tr>\n",
       "    <tr>\n",
       "      <th>75%</th>\n",
       "      <td>202.000000</td>\n",
       "    </tr>\n",
       "    <tr>\n",
       "      <th>max</th>\n",
       "      <td>1738.000000</td>\n",
       "    </tr>\n",
       "  </tbody>\n",
       "</table>\n",
       "</div>"
      ],
      "text/plain": [
       "              text\n",
       "count    77.000000\n",
       "mean    200.636364\n",
       "std     229.875304\n",
       "min      64.000000\n",
       "25%      95.000000\n",
       "50%     136.000000\n",
       "75%     202.000000\n",
       "max    1738.000000"
      ]
     },
     "execution_count": 7,
     "metadata": {},
     "output_type": "execute_result"
    }
   ],
   "source": [
    "X.groupby('class').count().describe()"
   ]
  },
  {
   "cell_type": "code",
   "execution_count": 8,
   "metadata": {
    "pycharm": {
     "is_executing": true
    }
   },
   "outputs": [
    {
     "data": {
      "text/plain": [
       "(15449, 2)"
      ]
     },
     "execution_count": 8,
     "metadata": {},
     "output_type": "execute_result"
    }
   ],
   "source": [
    "X.shape"
   ]
  },
  {
   "cell_type": "code",
   "execution_count": 9,
   "metadata": {
    "jupyter": {
     "outputs_hidden": false
    },
    "pycharm": {
     "is_executing": true,
     "name": "#%%\n"
    }
   },
   "outputs": [
    {
     "data": {
      "text/plain": [
       "77"
      ]
     },
     "execution_count": 9,
     "metadata": {},
     "output_type": "execute_result"
    }
   ],
   "source": [
    "X['class'].nunique()"
   ]
  },
  {
   "cell_type": "markdown",
   "metadata": {},
   "source": [
    "В исходном датасете 15449 строк. Запросы разделены на 77 категорий. В среднем на каждую категрию приходится 230 запросов. Датасет несбалансирован, самая крупная категория - \"6-1\", в ней 1738 запросов, в то время как минимальное число запросов в категории - 64. Названия категорий начинаются с цифр 1-6 или 9, что может указывать на более общую группу запросов, а вторая половина названия похожа на уточнение, то есть на более узкую группу запросов."
   ]
  },
  {
   "cell_type": "markdown",
   "metadata": {},
   "source": [
    "# Предобработка текста"
   ]
  },
  {
   "cell_type": "code",
   "execution_count": 10,
   "metadata": {},
   "outputs": [
    {
     "name": "stderr",
     "output_type": "stream",
     "text": [
      "100%|██████████| 15449/15449 [06:49<00:00, 37.70it/s]\n"
     ]
    }
   ],
   "source": [
    "X['spacy'] = X['text'].progress_apply(spacy_model)"
   ]
  },
  {
   "cell_type": "code",
   "execution_count": 11,
   "metadata": {},
   "outputs": [
    {
     "name": "stderr",
     "output_type": "stream",
     "text": [
      "100%|██████████| 15449/15449 [00:00<00:00, 22108.81it/s]\n",
      "100%|██████████| 15449/15449 [00:00<00:00, 94196.82it/s]\n"
     ]
    }
   ],
   "source": [
    "X['lemmatized'] = X['spacy'].progress_apply(\n",
    "    lambda text: ' '.join([word.lemma_ for word in text if word.pos_ not in ['PUNCT', 'SYM', 'NUM', 'PROPN']])\n",
    ")\n",
    "X['lemmatized'] = X['lemmatized'].progress_apply(lambda text : re.sub('(\\d+ )', '', text))"
   ]
  },
  {
   "cell_type": "code",
   "execution_count": 12,
   "metadata": {},
   "outputs": [
    {
     "name": "stderr",
     "output_type": "stream",
     "text": [
      "100%|██████████| 15449/15449 [00:26<00:00, 589.11it/s]\n",
      "100%|██████████| 15449/15449 [00:00<00:00, 105083.60it/s]\n"
     ]
    }
   ],
   "source": [
    "stemmer = SnowballStemmer(language='russian')\n",
    "X['stemmed'] = X['spacy'].progress_apply(\n",
    "    lambda text: ' '.join([stemmer.stem(word.lemma_) for word in text if word.pos_ not in ['PUNCT', 'SYM', 'NUM', 'PROPN']])\n",
    ")\n",
    "X['stemmed'] = X['stemmed'].progress_apply(lambda text : re.sub('(\\d+ )', '', text))"
   ]
  },
  {
   "cell_type": "code",
   "execution_count": 13,
   "metadata": {},
   "outputs": [
    {
     "data": {
      "text/html": [
       "<div>\n",
       "<style scoped>\n",
       "    .dataframe tbody tr th:only-of-type {\n",
       "        vertical-align: middle;\n",
       "    }\n",
       "\n",
       "    .dataframe tbody tr th {\n",
       "        vertical-align: top;\n",
       "    }\n",
       "\n",
       "    .dataframe thead th {\n",
       "        text-align: right;\n",
       "    }\n",
       "</style>\n",
       "<table border=\"1\" class=\"dataframe\">\n",
       "  <thead>\n",
       "    <tr style=\"text-align: right;\">\n",
       "      <th></th>\n",
       "      <th>text</th>\n",
       "      <th>class</th>\n",
       "      <th>spacy</th>\n",
       "      <th>lemmatized</th>\n",
       "      <th>stemmed</th>\n",
       "    </tr>\n",
       "  </thead>\n",
       "  <tbody>\n",
       "    <tr>\n",
       "      <th>0</th>\n",
       "      <td>проблема: не открывается АКТ сверки по СБС № П...</td>\n",
       "      <td>1-46</td>\n",
       "      <td>(проблема, :, не, открывается, АКТ, сверки, по...</td>\n",
       "      <td>проблема не открываться сверка по документ ска...</td>\n",
       "      <td>проблем не открыва сверк по документ скан прилага</td>\n",
       "    </tr>\n",
       "    <tr>\n",
       "      <th>1</th>\n",
       "      <td>В случае выбора неверного шаблона просьба указ...</td>\n",
       "      <td>1-70</td>\n",
       "      <td>(В, случае, выбора, неверного, шаблона, просьб...</td>\n",
       "      <td>в случай выбор неверный шаблон просьба указать...</td>\n",
       "      <td>в случа выбор неверн шаблон просьб указа наиме...</td>\n",
       "    </tr>\n",
       "    <tr>\n",
       "      <th>2</th>\n",
       "      <td>Вопрос/информация Добрый день! В ЗНВ 300001962...</td>\n",
       "      <td>4-11</td>\n",
       "      <td>(Вопрос, /, информация, Добрый, день, !, В, ЗН...</td>\n",
       "      <td>вопрос информация добрый день в в графа сумма ...</td>\n",
       "      <td>вопрос информац добр ден в в граф сумм комисс ...</td>\n",
       "    </tr>\n",
       "    <tr>\n",
       "      <th>3</th>\n",
       "      <td>Вопрос/проблема: После выхода из отпуска с 01....</td>\n",
       "      <td>6-1</td>\n",
       "      <td>(Вопрос, /, проблема, :, После, выхода, из, от...</td>\n",
       "      <td>вопрос проблема после выход из отпуск с меню в...</td>\n",
       "      <td>вопрос проблем посл выход из отпуск с мен в ст...</td>\n",
       "    </tr>\n",
       "    <tr>\n",
       "      <th>4</th>\n",
       "      <td>В УВХД необходимо снять резервирование с ЗНС *...</td>\n",
       "      <td>2-28</td>\n",
       "      <td>(В, УВХД, необходимо, снять, резервирование, с...</td>\n",
       "      <td>в необходимый снять резервирование с не давать...</td>\n",
       "      <td>в необходим снят резервирован с не дава постав...</td>\n",
       "    </tr>\n",
       "    <tr>\n",
       "      <th>...</th>\n",
       "      <td>...</td>\n",
       "      <td>...</td>\n",
       "      <td>...</td>\n",
       "      <td>...</td>\n",
       "      <td>...</td>\n",
       "    </tr>\n",
       "    <tr>\n",
       "      <th>15444</th>\n",
       "      <td>Вопрос/проблема: Добрый день. Направила догово...</td>\n",
       "      <td>1-64</td>\n",
       "      <td>(Вопрос, /, проблема, :, Добрый, день, ., Напр...</td>\n",
       "      <td>вопрос проблема добрый день направить договор ...</td>\n",
       "      <td>вопрос проблем добр ден направ договор на согл...</td>\n",
       "    </tr>\n",
       "    <tr>\n",
       "      <th>15445</th>\n",
       "      <td>Член комиссии в документе не меняется, в чем п...</td>\n",
       "      <td>2-10</td>\n",
       "      <td>(Член, комиссии, в, документе, не, меняется, ,...</td>\n",
       "      <td>член комиссия в документ не меняться в что при...</td>\n",
       "      <td>член комисс в документ не меня в что причин</td>\n",
       "    </tr>\n",
       "    <tr>\n",
       "      <th>15446</th>\n",
       "      <td>нет доступа к документам сотрудников для управ...</td>\n",
       "      <td>5-17</td>\n",
       "      <td>(нет, доступа, к, документам, сотрудников, для...</td>\n",
       "      <td>нет доступ к документ сотрудник для управление...</td>\n",
       "      <td>нет доступ к документ сотрудник для управлен к...</td>\n",
       "    </tr>\n",
       "    <tr>\n",
       "      <th>15447</th>\n",
       "      <td>Добрый день! В июне выставляли запрос на оплат...</td>\n",
       "      <td>2-18</td>\n",
       "      <td>(Добрый, день, !, В, июне, выставляли, запрос,...</td>\n",
       "      <td>добрый день в июнь выставлять запрос на оплата...</td>\n",
       "      <td>добр ден в июн выставля запрос на оплат счет с...</td>\n",
       "    </tr>\n",
       "    <tr>\n",
       "      <th>15448</th>\n",
       "      <td>Добрый день, прошу рассмотреть мое обращение о...</td>\n",
       "      <td>5-21</td>\n",
       "      <td>(Добрый, день, ,, прошу, рассмотреть, мое, обр...</td>\n",
       "      <td>добрый день просить рассмотреть мой обращение ...</td>\n",
       "      <td>добр ден прос рассмотрет мо обращен о не корре...</td>\n",
       "    </tr>\n",
       "  </tbody>\n",
       "</table>\n",
       "<p>15449 rows × 5 columns</p>\n",
       "</div>"
      ],
      "text/plain": [
       "                                                    text class  \\\n",
       "0      проблема: не открывается АКТ сверки по СБС № П...  1-46   \n",
       "1      В случае выбора неверного шаблона просьба указ...  1-70   \n",
       "2      Вопрос/информация Добрый день! В ЗНВ 300001962...  4-11   \n",
       "3      Вопрос/проблема: После выхода из отпуска с 01....   6-1   \n",
       "4      В УВХД необходимо снять резервирование с ЗНС *...  2-28   \n",
       "...                                                  ...   ...   \n",
       "15444  Вопрос/проблема: Добрый день. Направила догово...  1-64   \n",
       "15445  Член комиссии в документе не меняется, в чем п...  2-10   \n",
       "15446  нет доступа к документам сотрудников для управ...  5-17   \n",
       "15447  Добрый день! В июне выставляли запрос на оплат...  2-18   \n",
       "15448  Добрый день, прошу рассмотреть мое обращение о...  5-21   \n",
       "\n",
       "                                                   spacy  \\\n",
       "0      (проблема, :, не, открывается, АКТ, сверки, по...   \n",
       "1      (В, случае, выбора, неверного, шаблона, просьб...   \n",
       "2      (Вопрос, /, информация, Добрый, день, !, В, ЗН...   \n",
       "3      (Вопрос, /, проблема, :, После, выхода, из, от...   \n",
       "4      (В, УВХД, необходимо, снять, резервирование, с...   \n",
       "...                                                  ...   \n",
       "15444  (Вопрос, /, проблема, :, Добрый, день, ., Напр...   \n",
       "15445  (Член, комиссии, в, документе, не, меняется, ,...   \n",
       "15446  (нет, доступа, к, документам, сотрудников, для...   \n",
       "15447  (Добрый, день, !, В, июне, выставляли, запрос,...   \n",
       "15448  (Добрый, день, ,, прошу, рассмотреть, мое, обр...   \n",
       "\n",
       "                                              lemmatized  \\\n",
       "0      проблема не открываться сверка по документ ска...   \n",
       "1      в случай выбор неверный шаблон просьба указать...   \n",
       "2      вопрос информация добрый день в в графа сумма ...   \n",
       "3      вопрос проблема после выход из отпуск с меню в...   \n",
       "4      в необходимый снять резервирование с не давать...   \n",
       "...                                                  ...   \n",
       "15444  вопрос проблема добрый день направить договор ...   \n",
       "15445  член комиссия в документ не меняться в что при...   \n",
       "15446  нет доступ к документ сотрудник для управление...   \n",
       "15447  добрый день в июнь выставлять запрос на оплата...   \n",
       "15448  добрый день просить рассмотреть мой обращение ...   \n",
       "\n",
       "                                                 stemmed  \n",
       "0      проблем не открыва сверк по документ скан прилага  \n",
       "1      в случа выбор неверн шаблон просьб указа наиме...  \n",
       "2      вопрос информац добр ден в в граф сумм комисс ...  \n",
       "3      вопрос проблем посл выход из отпуск с мен в ст...  \n",
       "4      в необходим снят резервирован с не дава постав...  \n",
       "...                                                  ...  \n",
       "15444  вопрос проблем добр ден направ договор на согл...  \n",
       "15445        член комисс в документ не меня в что причин  \n",
       "15446  нет доступ к документ сотрудник для управлен к...  \n",
       "15447  добр ден в июн выставля запрос на оплат счет с...  \n",
       "15448  добр ден прос рассмотрет мо обращен о не корре...  \n",
       "\n",
       "[15449 rows x 5 columns]"
      ]
     },
     "execution_count": 13,
     "metadata": {},
     "output_type": "execute_result"
    }
   ],
   "source": [
    "X"
   ]
  },
  {
   "cell_type": "code",
   "execution_count": 14,
   "metadata": {},
   "outputs": [],
   "source": [
    "X.to_pickle('data/train_preprocessed.pkl')"
   ]
  },
  {
   "cell_type": "markdown",
   "metadata": {},
   "source": [
    "# Text Transformer"
   ]
  },
  {
   "cell_type": "code",
   "execution_count": 15,
   "metadata": {},
   "outputs": [],
   "source": [
    "class TextTransformer(TransformerMixin):\n",
    "    def __init__(self, spacy_model, stemmer, stemming=False):\n",
    "        self.spacy_model = spacy_model\n",
    "        self.stemmer = stemmer\n",
    "        self.stemming = stemming\n",
    "        self.ignore = ['PUNCT', 'SYM', 'NUM', 'PROPN']\n",
    "        \n",
    "    def fit(self, X, y=None):\n",
    "        return self\n",
    "    \n",
    "    def transform(self, X, y=None):\n",
    "        spacy_text = X.progress_apply(spacy_model)\n",
    "        if self.stemming:\n",
    "            X = spacy_text.progress_apply(\n",
    "                lambda text: ' '.join([stemmer.stem(word.lemma_) for word in text if word.pos_ not in self.ignore])\n",
    "            )\n",
    "        else:\n",
    "            X = spacy_text.progress_apply(\n",
    "                lambda text: ' '.join([word.lemma_ for word in text if word.pos_ not in self.ignore])\n",
    "            )\n",
    "        X = pd.Series(X.progress_apply(lambda text: self.__clear_digits(text)))\n",
    "        return X   \n",
    "    \n",
    "    def __clear_digits(self, text):\n",
    "        return re.sub('(\\d+ )', '', text)"
   ]
  },
  {
   "cell_type": "code",
   "execution_count": null,
   "metadata": {},
   "outputs": [],
   "source": []
  }
 ],
 "metadata": {
  "kernelspec": {
   "display_name": "Python 3 (ipykernel)",
   "language": "python",
   "name": "python3"
  },
  "language_info": {
   "codemirror_mode": {
    "name": "ipython",
    "version": 3
   },
   "file_extension": ".py",
   "mimetype": "text/x-python",
   "name": "python",
   "nbconvert_exporter": "python",
   "pygments_lexer": "ipython3",
   "version": "3.9.6"
  }
 },
 "nbformat": 4,
 "nbformat_minor": 4
}